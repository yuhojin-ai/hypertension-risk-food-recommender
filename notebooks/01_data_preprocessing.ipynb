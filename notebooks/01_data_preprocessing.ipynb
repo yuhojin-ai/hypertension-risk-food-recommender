{
 "cells": [
  {
   "cell_type": "code",
   "execution_count": null,
   "id": "2a802127",
   "metadata": {},
   "outputs": [],
   "source": [
    "import pandas as pd"
   ]
  },
  {
   "cell_type": "markdown",
   "id": "e05cf806",
   "metadata": {},
   "source": [
    "## 데이터 전처리"
   ]
  },
  {
   "cell_type": "code",
   "execution_count": 20,
   "id": "68a080c1",
   "metadata": {},
   "outputs": [],
   "source": [
    "df = pd.read_csv(\"../data/combined/health_checkup_2022_2023.csv\")"
   ]
  },
  {
   "cell_type": "code",
   "execution_count": 21,
   "id": "ecd2bc23",
   "metadata": {},
   "outputs": [
    {
     "name": "stdout",
     "output_type": "stream",
     "text": [
      "<class 'pandas.core.frame.DataFrame'>\n",
      "RangeIndex: 2000000 entries, 0 to 1999999\n",
      "Data columns (total 33 columns):\n",
      " #   Column         Dtype  \n",
      "---  ------         -----  \n",
      " 0   기준년도           int64  \n",
      " 1   가입자일련번호        int64  \n",
      " 2   시도코드           int64  \n",
      " 3   성별코드           int64  \n",
      " 4   연령대코드(5세단위)    int64  \n",
      " 5   신장(5cm단위)      int64  \n",
      " 6   체중(5kg단위)      int64  \n",
      " 7   허리둘레           float64\n",
      " 8   시력(좌)          float64\n",
      " 9   시력(우)          float64\n",
      " 10  청력(좌)          float64\n",
      " 11  청력(우)          float64\n",
      " 12  수축기혈압          float64\n",
      " 13  이완기혈압          float64\n",
      " 14  식전혈당(공복혈당)     float64\n",
      " 15  총콜레스테롤         float64\n",
      " 16  트리글리세라이드       float64\n",
      " 17  HDL콜레스테롤       float64\n",
      " 18  LDL콜레스테롤       float64\n",
      " 19  혈색소            float64\n",
      " 20  요단백            float64\n",
      " 21  혈청크레아티닌        float64\n",
      " 22  혈청지오티(AST)     float64\n",
      " 23  혈청지피티(ALT)     float64\n",
      " 24  감마지티피          float64\n",
      " 25  흡연상태           float64\n",
      " 26  음주여부           float64\n",
      " 27  구강검진수검여부       int64  \n",
      " 28  치아우식증유무        float64\n",
      " 29  결손치 유무         float64\n",
      " 30  치아마모증유무        float64\n",
      " 31  제3대구치(사랑니) 이상  float64\n",
      " 32  치석             float64\n",
      "dtypes: float64(25), int64(8)\n",
      "memory usage: 503.5 MB\n"
     ]
    }
   ],
   "source": [
    "df.info()"
   ]
  },
  {
   "cell_type": "code",
   "execution_count": 22,
   "id": "606bd672",
   "metadata": {},
   "outputs": [
    {
     "data": {
      "text/plain": [
       "Index(['기준년도', '가입자일련번호', '시도코드', '성별코드', '연령대코드(5세단위)', '신장(5cm단위)',\n",
       "       '체중(5kg단위)', '허리둘레', '시력(좌)', '시력(우)', '청력(좌)', '청력(우)', '수축기혈압',\n",
       "       '이완기혈압', '식전혈당(공복혈당)', '총콜레스테롤', '트리글리세라이드', 'HDL콜레스테롤', 'LDL콜레스테롤',\n",
       "       '혈색소', '요단백', '혈청크레아티닌', '혈청지오티(AST)', '혈청지피티(ALT)', '감마지티피', '흡연상태',\n",
       "       '음주여부', '구강검진수검여부', '치아우식증유무', '결손치 유무', '치아마모증유무', '제3대구치(사랑니) 이상',\n",
       "       '치석'],\n",
       "      dtype='object')"
      ]
     },
     "execution_count": 22,
     "metadata": {},
     "output_type": "execute_result"
    }
   ],
   "source": [
    "df.columns"
   ]
  },
  {
   "cell_type": "code",
   "execution_count": 24,
   "id": "3e5219e3",
   "metadata": {},
   "outputs": [],
   "source": [
    "drop_cols = [\n",
    "    '결손치 유무', \n",
    "    '치아마모증유무', \n",
    "    '제3대구치(사랑니) 이상', \n",
    "    '치석', \n",
    "    '치아우식증유무', \n",
    "    '구강검진수검여부',\n",
    "    '시력(좌)',\n",
    "    '시력(우)', \n",
    "    '기준년도',\n",
    "    '가입자일련번호',\n",
    "    '시도코드'\n",
    "]\n",
    "df_drop = df.drop(columns=drop_cols)"
   ]
  },
  {
   "cell_type": "markdown",
   "id": "71404212",
   "metadata": {},
   "source": [
    "### 제거한 컬럼\n",
    "| 컬럼명 | 사유 |\n",
    "|--------|------|\n",
    "| 가입자일련번호, 기준년도 | 예측과 무관한 메타데이터 |\n",
    "| 시도코드 | 지역별 유병률이 고혈압 예측 설득력 부족 판단 |\n",
    "| 청력 | 예측과 직접 관련성 낮고 결측 있음 |\n",
    "| 구강검진 및 치과 관련 항목 | 고혈압과 관련성 낮다고 판단 |"
   ]
  },
  {
   "cell_type": "code",
   "execution_count": 25,
   "id": "61c115fe",
   "metadata": {},
   "outputs": [
    {
     "data": {
      "text/plain": [
       "Index(['성별코드', '연령대코드(5세단위)', '신장(5cm단위)', '체중(5kg단위)', '허리둘레', '청력(좌)',\n",
       "       '청력(우)', '수축기혈압', '이완기혈압', '식전혈당(공복혈당)', '총콜레스테롤', '트리글리세라이드',\n",
       "       'HDL콜레스테롤', 'LDL콜레스테롤', '혈색소', '요단백', '혈청크레아티닌', '혈청지오티(AST)',\n",
       "       '혈청지피티(ALT)', '감마지티피', '흡연상태', '음주여부'],\n",
       "      dtype='object')"
      ]
     },
     "execution_count": 25,
     "metadata": {},
     "output_type": "execute_result"
    }
   ],
   "source": [
    "df_drop.columns"
   ]
  },
  {
   "cell_type": "markdown",
   "id": "2085b6bb",
   "metadata": {},
   "source": [
    "## 결측치 확인 및 제거"
   ]
  },
  {
   "cell_type": "code",
   "execution_count": 31,
   "id": "93b92a38",
   "metadata": {},
   "outputs": [
    {
     "data": {
      "text/plain": [
       "성별코드                 0\n",
       "연령대코드(5세단위)          0\n",
       "신장(5cm단위)            0\n",
       "체중(5kg단위)            0\n",
       "허리둘레               803\n",
       "청력(좌)              252\n",
       "청력(우)              254\n",
       "수축기혈압            11303\n",
       "이완기혈압            11303\n",
       "식전혈당(공복혈당)       11425\n",
       "총콜레스테롤         1315776\n",
       "트리글리세라이드       1315780\n",
       "HDL콜레스테롤       1315780\n",
       "LDL콜레스테롤       1328173\n",
       "혈색소              11433\n",
       "요단백              22210\n",
       "혈청크레아티닌          11429\n",
       "혈청지오티(AST)       11429\n",
       "혈청지피티(ALT)       11429\n",
       "감마지티피            11424\n",
       "흡연상태               185\n",
       "음주여부               129\n",
       "dtype: int64"
      ]
     },
     "execution_count": 31,
     "metadata": {},
     "output_type": "execute_result"
    }
   ],
   "source": [
    "df_drop.isnull().sum()"
   ]
  },
  {
   "cell_type": "code",
   "execution_count": 28,
   "id": "2a494ca6",
   "metadata": {},
   "outputs": [],
   "source": [
    "df_cleaned = df_drop.dropna()"
   ]
  },
  {
   "cell_type": "code",
   "execution_count": 34,
   "id": "38da2802",
   "metadata": {},
   "outputs": [
    {
     "data": {
      "text/plain": [
       "(667798, 22)"
      ]
     },
     "execution_count": 34,
     "metadata": {},
     "output_type": "execute_result"
    }
   ],
   "source": [
    "df_cleaned.shape"
   ]
  },
  {
   "cell_type": "code",
   "execution_count": 33,
   "id": "9cf2648a",
   "metadata": {},
   "outputs": [
    {
     "data": {
      "text/plain": [
       "성별코드           0\n",
       "연령대코드(5세단위)    0\n",
       "신장(5cm단위)      0\n",
       "체중(5kg단위)      0\n",
       "허리둘레           0\n",
       "청력(좌)          0\n",
       "청력(우)          0\n",
       "수축기혈압          0\n",
       "이완기혈압          0\n",
       "식전혈당(공복혈당)     0\n",
       "총콜레스테롤         0\n",
       "트리글리세라이드       0\n",
       "HDL콜레스테롤       0\n",
       "LDL콜레스테롤       0\n",
       "혈색소            0\n",
       "요단백            0\n",
       "혈청크레아티닌        0\n",
       "혈청지오티(AST)     0\n",
       "혈청지피티(ALT)     0\n",
       "감마지티피          0\n",
       "흡연상태           0\n",
       "음주여부           0\n",
       "dtype: int64"
      ]
     },
     "execution_count": 33,
     "metadata": {},
     "output_type": "execute_result"
    }
   ],
   "source": [
    "df_cleaned.isnull().sum()"
   ]
  },
  {
   "cell_type": "markdown",
   "id": "61fcaf29",
   "metadata": {},
   "source": [
    "### 결측치 처리 전략\n",
    "\n",
    "- **혈액 데이터가 없는 경우 전체 행 제거**\n",
    "- 평균/중앙값 대체 → 왜곡 우려 있음\n",
    "- 최종 데이터: **667,798건 (결측 없는 완전한 샘플)**\n",
    "- **혈액검사 지표 포함된 사람만 분석 대상**\n",
    "\n",
    "### 의사결정 근거\n",
    "\n",
    "- 본 프로젝트는 **혈액 데이터 기반 고혈압 예측**을 목표로 함\n",
    "- 따라서 **혈액지표 결측이 있는 사람은 예측 대상 아님**\n",
    "- 정제된 완전 데이터셋을 통해 **신뢰성 있는 모델 학습 가능**"
   ]
  },
  {
   "cell_type": "code",
   "execution_count": 36,
   "id": "aa9fb2ec",
   "metadata": {},
   "outputs": [],
   "source": [
    "df_cleaned.to_csv(\"../data/processed/health_checkup_cleaned.csv\", index=False, encoding='utf-8-sig')"
   ]
  }
 ],
 "metadata": {
  "kernelspec": {
   "display_name": "py312tf2",
   "language": "python",
   "name": "python3"
  },
  "language_info": {
   "codemirror_mode": {
    "name": "ipython",
    "version": 3
   },
   "file_extension": ".py",
   "mimetype": "text/x-python",
   "name": "python",
   "nbconvert_exporter": "python",
   "pygments_lexer": "ipython3",
   "version": "3.12.9"
  }
 },
 "nbformat": 4,
 "nbformat_minor": 5
}
