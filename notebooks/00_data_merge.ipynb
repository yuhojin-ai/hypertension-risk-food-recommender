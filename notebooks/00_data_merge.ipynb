{
 "cells": [
  {
   "cell_type": "code",
   "execution_count": 5,
   "id": "d0395e88",
   "metadata": {},
   "outputs": [],
   "source": [
    "import pandas as pd\n",
    "import os"
   ]
  },
  {
   "cell_type": "markdown",
   "id": "ce8d0339",
   "metadata": {},
   "source": [
    "## 데이터 불러오기"
   ]
  },
  {
   "cell_type": "code",
   "execution_count": 6,
   "id": "ec5f9421",
   "metadata": {},
   "outputs": [],
   "source": [
    "path_2022 = \"../data/raw/health_checkup_2022.csv\"\n",
    "path_2023 = \"../data/raw/health_checkup_2023.csv\""
   ]
  },
  {
   "cell_type": "code",
   "execution_count": 7,
   "id": "1467256e",
   "metadata": {},
   "outputs": [],
   "source": [
    "df_2022 = pd.read_csv(path_2022, encoding='cp949')\n",
    "df_2023 = pd.read_csv(path_2023, encoding='cp949')"
   ]
  },
  {
   "cell_type": "markdown",
   "id": "5769c6e4",
   "metadata": {},
   "source": [
    "## 건강검진 데이터셋 이해"
   ]
  },
  {
   "cell_type": "code",
   "execution_count": 8,
   "id": "61aee540",
   "metadata": {},
   "outputs": [
    {
     "name": "stdout",
     "output_type": "stream",
     "text": [
      "<class 'pandas.core.frame.DataFrame'>\n",
      "RangeIndex: 1000000 entries, 0 to 999999\n",
      "Data columns (total 30 columns):\n",
      " #   Column       Non-Null Count    Dtype  \n",
      "---  ------       --------------    -----  \n",
      " 0   기준년도         1000000 non-null  int64  \n",
      " 1   가입자일련번호      1000000 non-null  int64  \n",
      " 2   시도코드         1000000 non-null  int64  \n",
      " 3   성별           1000000 non-null  int64  \n",
      " 4   연령대코드(5세단위)  1000000 non-null  int64  \n",
      " 5   신장(5cm단위)    1000000 non-null  int64  \n",
      " 6   체중(5kg단위)    1000000 non-null  int64  \n",
      " 7   허리둘레         999608 non-null   float64\n",
      " 8   시력(좌)        999814 non-null   float64\n",
      " 9   시력(우)        999815 non-null   float64\n",
      " 10  청력(좌)        999885 non-null   float64\n",
      " 11  청력(우)        999884 non-null   float64\n",
      " 12  수축기혈압        994444 non-null   float64\n",
      " 13  이완기혈압        994444 non-null   float64\n",
      " 14  식전혈당(공복혈당)   994389 non-null   float64\n",
      " 15  총콜레스테롤       345618 non-null   float64\n",
      " 16  트리글리세라이드     345614 non-null   float64\n",
      " 17  HDL콜레스테롤     345614 non-null   float64\n",
      " 18  LDL콜레스테롤     339074 non-null   float64\n",
      " 19  혈색소          994384 non-null   float64\n",
      " 20  요단백          988946 non-null   float64\n",
      " 21  혈청크레아티닌      994385 non-null   float64\n",
      " 22  혈청지오티(AST)   994387 non-null   float64\n",
      " 23  혈청지피티(ALT)   994387 non-null   float64\n",
      " 24  감마지티피        994389 non-null   float64\n",
      " 25  흡연상태         999904 non-null   float64\n",
      " 26  음주여부         999927 non-null   float64\n",
      " 27  구강검진수검여부     1000000 non-null  int64  \n",
      " 28  치아우식증유무      344329 non-null   float64\n",
      " 29  치석           344330 non-null   float64\n",
      "dtypes: float64(22), int64(8)\n",
      "memory usage: 228.9 MB\n"
     ]
    }
   ],
   "source": [
    "df_2022.info()"
   ]
  },
  {
   "cell_type": "code",
   "execution_count": 9,
   "id": "3791f039",
   "metadata": {},
   "outputs": [
    {
     "name": "stdout",
     "output_type": "stream",
     "text": [
      "<class 'pandas.core.frame.DataFrame'>\n",
      "RangeIndex: 1000000 entries, 0 to 999999\n",
      "Data columns (total 33 columns):\n",
      " #   Column         Non-Null Count    Dtype  \n",
      "---  ------         --------------    -----  \n",
      " 0   기준년도           1000000 non-null  int64  \n",
      " 1   가입자일련번호        1000000 non-null  int64  \n",
      " 2   시도코드           1000000 non-null  int64  \n",
      " 3   성별코드           1000000 non-null  int64  \n",
      " 4   연령대코드(5세단위)    1000000 non-null  int64  \n",
      " 5   신장(5cm단위)      1000000 non-null  int64  \n",
      " 6   체중(5kg단위)      1000000 non-null  int64  \n",
      " 7   허리둘레           999589 non-null   float64\n",
      " 8   시력(좌)          999816 non-null   float64\n",
      " 9   시력(우)          999823 non-null   float64\n",
      " 10  청력(좌)          999863 non-null   float64\n",
      " 11  청력(우)          999862 non-null   float64\n",
      " 12  수축기혈압          994253 non-null   float64\n",
      " 13  이완기혈압          994253 non-null   float64\n",
      " 14  식전혈당(공복혈당)     994186 non-null   float64\n",
      " 15  총콜레스테롤         338606 non-null   float64\n",
      " 16  트리글리세라이드       338606 non-null   float64\n",
      " 17  HDL콜레스테롤       338606 non-null   float64\n",
      " 18  LDL콜레스테롤       332753 non-null   float64\n",
      " 19  혈색소            994183 non-null   float64\n",
      " 20  요단백            988844 non-null   float64\n",
      " 21  혈청크레아티닌        994186 non-null   float64\n",
      " 22  혈청지오티(AST)     994184 non-null   float64\n",
      " 23  혈청지피티(ALT)     994184 non-null   float64\n",
      " 24  감마지티피          994187 non-null   float64\n",
      " 25  흡연상태           999911 non-null   float64\n",
      " 26  음주여부           999944 non-null   float64\n",
      " 27  구강검진수검여부       1000000 non-null  int64  \n",
      " 28  치아우식증유무        346848 non-null   float64\n",
      " 29  결손치 유무         0 non-null        float64\n",
      " 30  치아마모증유무        0 non-null        float64\n",
      " 31  제3대구치(사랑니) 이상  0 non-null        float64\n",
      " 32  치석             346848 non-null   float64\n",
      "dtypes: float64(25), int64(8)\n",
      "memory usage: 251.8 MB\n"
     ]
    }
   ],
   "source": [
    "df_2023.info()"
   ]
  },
  {
   "cell_type": "code",
   "execution_count": 10,
   "id": "bdfb3826",
   "metadata": {},
   "outputs": [
    {
     "data": {
      "text/plain": [
       "Index(['기준년도', '가입자일련번호', '시도코드', '성별', '연령대코드(5세단위)', '신장(5cm단위)',\n",
       "       '체중(5kg단위)', '허리둘레', '시력(좌)', '시력(우)', '청력(좌)', '청력(우)', '수축기혈압',\n",
       "       '이완기혈압', '식전혈당(공복혈당)', '총콜레스테롤', '트리글리세라이드', 'HDL콜레스테롤', 'LDL콜레스테롤',\n",
       "       '혈색소', '요단백', '혈청크레아티닌', '혈청지오티(AST)', '혈청지피티(ALT)', '감마지티피', '흡연상태',\n",
       "       '음주여부', '구강검진수검여부', '치아우식증유무', '치석'],\n",
       "      dtype='object')"
      ]
     },
     "execution_count": 10,
     "metadata": {},
     "output_type": "execute_result"
    }
   ],
   "source": [
    "df_2022.columns"
   ]
  },
  {
   "cell_type": "code",
   "execution_count": 11,
   "id": "5329779e",
   "metadata": {},
   "outputs": [
    {
     "data": {
      "text/plain": [
       "Index(['기준년도', '가입자일련번호', '시도코드', '성별코드', '연령대코드(5세단위)', '신장(5cm단위)',\n",
       "       '체중(5kg단위)', '허리둘레', '시력(좌)', '시력(우)', '청력(좌)', '청력(우)', '수축기혈압',\n",
       "       '이완기혈압', '식전혈당(공복혈당)', '총콜레스테롤', '트리글리세라이드', 'HDL콜레스테롤', 'LDL콜레스테롤',\n",
       "       '혈색소', '요단백', '혈청크레아티닌', '혈청지오티(AST)', '혈청지피티(ALT)', '감마지티피', '흡연상태',\n",
       "       '음주여부', '구강검진수검여부', '치아우식증유무', '결손치 유무', '치아마모증유무', '제3대구치(사랑니) 이상',\n",
       "       '치석'],\n",
       "      dtype='object')"
      ]
     },
     "execution_count": 11,
     "metadata": {},
     "output_type": "execute_result"
    }
   ],
   "source": [
    "df_2023.columns"
   ]
  },
  {
   "cell_type": "markdown",
   "id": "8b945f12",
   "metadata": {},
   "source": [
    "| 연도   | 파일명                       | 컬럼 수 | 주요 차이                        |\n",
    "| ---- | ------------------------- | ---- | ---------------------------- |\n",
    "| 2022 | `health_checkup_2022.csv` | 30개  | `'성별'`이라는 컬럼명 사용             |\n",
    "| 2023 | `health_checkup_2023.csv` | 33개  | `'성별코드'` 사용 + 치과 검사 항목 3개 추가 |\n"
   ]
  },
  {
   "cell_type": "code",
   "execution_count": 12,
   "id": "52148c14",
   "metadata": {},
   "outputs": [],
   "source": [
    "df_2022.rename(columns={'성별': '성별코드'}, inplace=True)"
   ]
  },
  {
   "cell_type": "code",
   "execution_count": 13,
   "id": "895f395b",
   "metadata": {},
   "outputs": [],
   "source": [
    "df_2022 = df_2022.reindex(columns=df_2023.columns)"
   ]
  },
  {
   "cell_type": "code",
   "execution_count": null,
   "id": "e089f3b0",
   "metadata": {},
   "outputs": [],
   "source": [
    "df_combined = pd.concat([df_2022, df_2023], ignore_index=True)\n",
    "df_combined.to_csv(\"../data/processed/health_checkup_2022_2023.csv\", index=False)"
   ]
  },
  {
   "cell_type": "code",
   "execution_count": null,
   "id": "f9f94647",
   "metadata": {},
   "outputs": [],
   "source": [
    "df_sample = df_combined.sample(n=800000, random_state=42)\n",
    "\n",
    "df_sample.to_csv(\"../data/sample/health_checkup_sample.csv\", index=False)"
   ]
  },
  {
   "cell_type": "markdown",
   "id": "8a207aba",
   "metadata": {},
   "source": [
    "1. **컬럼명 통일**\n",
    "   - 2022: `'성별'` → `'성별코드'`로 변경 (`rename()`)\n",
    "\n",
    "2. **컬럼 순서 통일**\n",
    "   - 2023 컬럼 순서 기준으로 2022 데이터 재정렬 (`reindex()`)\n",
    "\n",
    "3. **데이터 병합**\n",
    "   - `pd.concat()`으로 수직 병합 (`ignore_index=True`)\n",
    "\n",
    "4. **병합 데이터 저장**\n",
    "   - 경로: `data/combined/health_checkup_2022_2023.csv`\n",
    "   - 결과 크기: `2,000,000 rows × 34 columns`"
   ]
  }
 ],
 "metadata": {
  "kernelspec": {
   "display_name": "py312tf2",
   "language": "python",
   "name": "python3"
  },
  "language_info": {
   "codemirror_mode": {
    "name": "ipython",
    "version": 3
   },
   "file_extension": ".py",
   "mimetype": "text/x-python",
   "name": "python",
   "nbconvert_exporter": "python",
   "pygments_lexer": "ipython3",
   "version": "3.12.9"
  }
 },
 "nbformat": 4,
 "nbformat_minor": 5
}
