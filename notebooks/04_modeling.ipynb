{
 "cells": [
  {
   "cell_type": "code",
   "execution_count": null,
   "id": "298f0b86",
   "metadata": {},
   "outputs": [],
   "source": [
    "import pandas as pd\n",
    "\n",
    "df = pd.read_csv(\"../data/processed/health_checkup_selected_features.csv\")"
   ]
  },
  {
   "cell_type": "code",
   "execution_count": 27,
   "id": "5b0709aa",
   "metadata": {},
   "outputs": [
    {
     "data": {
      "text/plain": [
       "Index(['성별코드', '연령대코드(5세단위)', '시력(평균)', '식전혈당(공복혈당)', '총콜레스테롤', '혈색소', '요단백',\n",
       "       '혈청크레아티닌', '감마지티피', '흡연상태', '음주여부', 'bmi', 'alt_ast_ratio',\n",
       "       'tg_hdl_ratio', 'ggtp_alt_ratio', 'ldl_hdl_ratio',\n",
       "       'hypertension_status'],\n",
       "      dtype='object')"
      ]
     },
     "execution_count": 27,
     "metadata": {},
     "output_type": "execute_result"
    }
   ],
   "source": [
    "df.columns"
   ]
  },
  {
   "cell_type": "markdown",
   "id": "50ed54ce",
   "metadata": {},
   "source": [
    "### 모델 성능 목표 (CareBite 기준)\n",
    "\n",
    "| 지표          | 목표 수치 | 설명 |\n",
    "|---------------|-----------|------|\n",
    "| Recall        | ≥ 0.60    | 고혈압 위험자를 놓치지 않기 위한 민감도 기준 |\n",
    "| F1 Score      | ≥ 0.50    | precision과의 균형 확보 |\n",
    "| ROC AUC       | ≥ 0.70    | 전체적인 분류 성능 |\n",
    "| Accuracy      | ≥ 0.80    | 최소 baseline 수준 유지 (불균형 클래스 구조 고려) |\n",
    "\n",
    "> 이 기준은 고혈압 위험군 조기 탐지를 위한 실무적 민감도와  \n",
    "> 모델 해석력/신뢰도 확보 사이의 균형점을 반영한 수치"
   ]
  },
  {
   "cell_type": "markdown",
   "id": "06353cd0",
   "metadata": {},
   "source": [
    "| 모델                      | 스케일링 필요 여부 | 이유                                        |\n",
    "| ----------------------- | ---------- | ----------------------------------------- |\n",
    "| **Logistic Regression** | 필요함      | 수치 크기에 민감. 큰 값이 큰 가중치를 가지기 때문에 스케일 조정이 중요 |\n",
    "| **Gradient Boosting**   | 하는 편이 좋음 | 트리지만 학습률이 작아서 feature scale에 민감할 수 있음     |\n",
    "| **XGBoost**             | 필요 없음    | 내부적으로 트리 기반 → 스케일 무관                      |\n",
    "| **Random Forest**       | 필요 없음    | 트리 기반 → 피처 스케일 영향을 받지 않음                  |"
   ]
  },
  {
   "cell_type": "code",
   "execution_count": 3,
   "id": "68538854",
   "metadata": {},
   "outputs": [
    {
     "name": "stderr",
     "output_type": "stream",
     "text": [
      "C:\\Users\\asia\\AppData\\Roaming\\Python\\Python312\\site-packages\\xgboost\\training.py:183: UserWarning: [15:49:35] WARNING: C:\\actions-runner\\_work\\xgboost\\xgboost\\src\\learner.cc:738: \n",
      "Parameters: { \"use_label_encoder\" } are not used.\n",
      "\n",
      "  bst.update(dtrain, iteration=i, fobj=obj)\n"
     ]
    },
    {
     "name": "stdout",
     "output_type": "stream",
     "text": [
      "\n",
      " 모델 성능 비교 결과:\n",
      "                 Model  Accuracy    Recall  F1 Score   ROC AUC\n",
      "3    Gradient Boosting  0.837985  0.009768  0.019186  0.712591\n",
      "2              XGBoost  0.837480  0.027026  0.051189  0.711565\n",
      "0  Logistic Regression  0.837155  0.027072  0.051176  0.703312\n",
      "1        Random Forest  0.837397  0.017350  0.033460  0.694548\n"
     ]
    }
   ],
   "source": [
    "import pandas as pd\n",
    "from sklearn.model_selection import train_test_split\n",
    "from sklearn.preprocessing import StandardScaler\n",
    "from sklearn.metrics import accuracy_score, precision_score, recall_score, f1_score, roc_auc_score\n",
    "\n",
    "# 모델들\n",
    "from sklearn.linear_model import LogisticRegression\n",
    "from sklearn.ensemble import RandomForestClassifier, GradientBoostingClassifier\n",
    "from xgboost import XGBClassifier\n",
    "\n",
    "X = df.drop(columns=\"hypertension_status\")\n",
    "y = df[\"hypertension_status\"]\n",
    "\n",
    "# 2. 데이터 분할\n",
    "X_train, X_test, y_train, y_test = train_test_split(\n",
    "    X, y, test_size=0.2, random_state=42, stratify=y\n",
    ")\n",
    "\n",
    "# 3. 스케일링 (Logistic, GBM류에만 적용)\n",
    "scaler = StandardScaler()\n",
    "X_train_scaled = scaler.fit_transform(X_train)\n",
    "X_test_scaled = scaler.transform(X_test)\n",
    "\n",
    "# 4. 모델 리스트\n",
    "models = {\n",
    "    \"Logistic Regression\": LogisticRegression(max_iter=1000, random_state=42),\n",
    "    \"Random Forest\": RandomForestClassifier(random_state=42),\n",
    "    \"XGBoost\": XGBClassifier(use_label_encoder=False, eval_metric='logloss', random_state=42),\n",
    "    \"Gradient Boosting\": GradientBoostingClassifier(random_state=42)\n",
    "}\n",
    "\n",
    "# 5. 학습 및 평가\n",
    "def evaluate_model(name, model, X_train, X_test):\n",
    "    model.fit(X_train, y_train)\n",
    "    y_pred = model.predict(X_test)\n",
    "    y_proba = model.predict_proba(X_test)[:, 1] if hasattr(model, 'predict_proba') else None\n",
    "\n",
    "    return {\n",
    "        \"Model\": name,\n",
    "        \"Accuracy\": accuracy_score(y_test, y_pred),\n",
    "        \"Recall\": recall_score(y_test, y_pred),\n",
    "        \"F1 Score\": f1_score(y_test, y_pred),\n",
    "        \"ROC AUC\": roc_auc_score(y_test, y_proba) if y_proba is not None else None\n",
    "    }\n",
    "\n",
    "results = []\n",
    "for name, model in models.items():\n",
    "    if name == \"Random Forest\":\n",
    "        results.append(evaluate_model(name, model, X_train, X_test))\n",
    "    else:\n",
    "        results.append(evaluate_model(name, model, X_train_scaled, X_test_scaled))\n",
    "\n",
    "# 6. 결과 출력\n",
    "results_df = pd.DataFrame(results)\n",
    "print(\"\\n 모델 성능 비교 결과:\")\n",
    "print(results_df.sort_values(by=\"ROC AUC\", ascending=False))"
   ]
  },
  {
   "cell_type": "code",
   "execution_count": 7,
   "id": "e2136c4a",
   "metadata": {},
   "outputs": [
    {
     "name": "stdout",
     "output_type": "stream",
     "text": [
      "hypertension_status\n",
      "0    0.83778\n",
      "1    0.16222\n",
      "Name: proportion, dtype: float64\n"
     ]
    }
   ],
   "source": [
    "print(df['hypertension_status'].value_counts(normalize=True))"
   ]
  },
  {
   "cell_type": "markdown",
   "id": "080258cc",
   "metadata": {},
   "source": [
    "# 클래스 불균형 \n",
    "class_weight='balanced' 추가"
   ]
  },
  {
   "cell_type": "code",
   "execution_count": null,
   "id": "7de473cd",
   "metadata": {},
   "outputs": [
    {
     "name": "stderr",
     "output_type": "stream",
     "text": [
      "C:\\Users\\asia\\AppData\\Roaming\\Python\\Python312\\site-packages\\xgboost\\training.py:183: UserWarning: [16:21:33] WARNING: C:\\actions-runner\\_work\\xgboost\\xgboost\\src\\learner.cc:738: \n",
      "Parameters: { \"use_label_encoder\" } are not used.\n",
      "\n",
      "  bst.update(dtrain, iteration=i, fobj=obj)\n"
     ]
    },
    {
     "name": "stdout",
     "output_type": "stream",
     "text": [
      " 불균형 보정 적용 후 모델 성능 비교:\n",
      "                 Model  Accuracy    Recall  F1 Score   ROC AUC\n",
      "2              XGBoost  0.641079  0.670341  0.377311  0.711599\n",
      "0  Logistic Regression  0.637389  0.658247  0.370654  0.703774\n",
      "3    Gradient Boosting  0.837985  0.009768  0.019186  0.712591\n",
      "1        Random Forest  0.837668  0.007443  0.014657  0.696866\n"
     ]
    }
   ],
   "source": [
    "# 2. 학습/테스트 분리\n",
    "X_train, X_test, y_train, y_test = train_test_split(\n",
    "    X, y, test_size=0.2, random_state=42, stratify=y\n",
    ")\n",
    "\n",
    "# 3. 스케일링 (선형 및 GBM류에만 적용)\n",
    "scaler = StandardScaler()\n",
    "X_train_scaled = scaler.fit_transform(X_train)\n",
    "X_test_scaled = scaler.transform(X_test)\n",
    "\n",
    "# 4. 모델 정의 (class_weight, scale_pos_weight 적용)\n",
    "models = {\n",
    "    \"Logistic Regression\": LogisticRegression(class_weight='balanced', max_iter=1000, random_state=42),\n",
    "    \"Random Forest\": RandomForestClassifier(class_weight='balanced', random_state=42),\n",
    "    \"XGBoost\": XGBClassifier(eval_metric='logloss', scale_pos_weight=5.0, random_state=42),\n",
    "    \"Gradient Boosting\": GradientBoostingClassifier(random_state=42)  # class_weight 미지원\n",
    "}\n",
    "\n",
    "# 5. 모델 평가 함수\n",
    "def evaluate_model(name, model, X_train, X_test):\n",
    "    model.fit(X_train, y_train)\n",
    "    y_pred = model.predict(X_test)\n",
    "    y_proba = model.predict_proba(X_test)[:, 1] if hasattr(model, 'predict_proba') else None\n",
    "\n",
    "    return {\n",
    "        \"Model\": name,\n",
    "        \"Accuracy\": accuracy_score(y_test, y_pred),\n",
    "        \"Recall\": recall_score(y_test, y_pred),\n",
    "        \"F1 Score\": f1_score(y_test, y_pred),\n",
    "        \"ROC AUC\": roc_auc_score(y_test, y_proba) if y_proba is not None else None\n",
    "    }\n",
    "\n",
    "# 6. 성능 비교\n",
    "results = []\n",
    "for name, model in models.items():\n",
    "    if name in [\"Random Forest\", \"XGBoost\"]:\n",
    "        results.append(evaluate_model(name, model, X_train, X_test))\n",
    "    else:\n",
    "        results.append(evaluate_model(name, model, X_train_scaled, X_test_scaled))\n",
    "\n",
    "# 7. 출력\n",
    "results_df = pd.DataFrame(results)\n",
    "print(\" 불균형 보정 적용 후 모델 성능 비교:\")\n",
    "print(results_df.sort_values(by=\"Recall\", ascending=False))"
   ]
  },
  {
   "cell_type": "markdown",
   "id": "18541f67",
   "metadata": {},
   "source": [
    "### 모델 1차 비교 결과 요약 (class_weight='balanced' 적용)\n",
    "\n",
    "- `XGBoost`와 `Logistic Regression`은 Recall ≥ 0.60, AUC ≥ 0.70 기준을 충족함\n",
    "- 다만, 두 모델 모두 F1 Score는 목표치(≥ 0.50)에 도달하지 못함\n",
    "- Gradient Boosting과 Random Forest는 고혈압자 탐지 실패 (Recall < 0.01)로 제외\n",
    "- 향후 이 두 모델 중심으로 하이퍼파라미터 튜닝 및 데이터 불균형 보정(SMOTE 등) 추가 적용 예정"
   ]
  },
  {
   "cell_type": "markdown",
   "id": "5f2d516d",
   "metadata": {},
   "source": [
    "# SMOTE + XGBoost & LogisticRegression"
   ]
  },
  {
   "cell_type": "code",
   "execution_count": 6,
   "id": "81be8a2a",
   "metadata": {},
   "outputs": [
    {
     "name": "stderr",
     "output_type": "stream",
     "text": [
      "C:\\Users\\asia\\AppData\\Roaming\\Python\\Python312\\site-packages\\xgboost\\training.py:183: UserWarning: [16:27:58] WARNING: C:\\actions-runner\\_work\\xgboost\\xgboost\\src\\learner.cc:738: \n",
      "Parameters: { \"use_label_encoder\" } are not used.\n",
      "\n",
      "  bst.update(dtrain, iteration=i, fobj=obj)\n"
     ]
    },
    {
     "name": "stdout",
     "output_type": "stream",
     "text": [
      "SMOTE 적용 후 모델 성능 비교:\n",
      "                         Model  Accuracy    Recall  F1 Score   ROC AUC\n",
      "0  Logistic Regression (SMOTE)  0.635578  0.659038  0.369772  0.703068\n",
      "1              XGBoost (SMOTE)  0.836627  0.030421  0.056971  0.707909\n"
     ]
    }
   ],
   "source": [
    "from imblearn.over_sampling import SMOTE\n",
    "\n",
    "X_train, X_test, y_train, y_test = train_test_split(\n",
    "    X, y, test_size=0.2, stratify=y, random_state=42\n",
    ")\n",
    "\n",
    "scaler = StandardScaler()\n",
    "X_train_scaled = scaler.fit_transform(X_train)\n",
    "X_test_scaled = scaler.transform(X_test)\n",
    "\n",
    "smote = SMOTE(random_state=42)\n",
    "X_resampled, y_resampled = smote.fit_resample(X_train_scaled, y_train)  # Logistic 용\n",
    "X_resampled_xgb, y_resampled_xgb = smote.fit_resample(X_train, y_train)  # XGBoost 용\n",
    "\n",
    "models = {\n",
    "    \"Logistic Regression (SMOTE)\": LogisticRegression(max_iter=1000, random_state=42),\n",
    "    \"XGBoost (SMOTE)\": XGBClassifier(use_label_encoder=False, eval_metric='logloss', random_state=42)\n",
    "}\n",
    "\n",
    "def evaluate_model(name, model, X_train, X_test):\n",
    "    model.fit(X_train, y_resampled if \"Logistic\" in name else y_resampled_xgb)\n",
    "    y_pred = model.predict(X_test)\n",
    "    y_proba = model.predict_proba(X_test)[:, 1] if hasattr(model, 'predict_proba') else None\n",
    "\n",
    "    return {\n",
    "        \"Model\": name,\n",
    "        \"Accuracy\": accuracy_score(y_test, y_pred),\n",
    "        \"Recall\": recall_score(y_test, y_pred),\n",
    "        \"F1 Score\": f1_score(y_test, y_pred),\n",
    "        \"ROC AUC\": roc_auc_score(y_test, y_proba) if y_proba is not None else None\n",
    "    }\n",
    "\n",
    "results = []\n",
    "results.append(evaluate_model(\"Logistic Regression (SMOTE)\", models[\"Logistic Regression (SMOTE)\"], X_resampled, X_test_scaled))\n",
    "results.append(evaluate_model(\"XGBoost (SMOTE)\", models[\"XGBoost (SMOTE)\"], X_resampled_xgb, X_test))\n",
    "\n",
    "results_df = pd.DataFrame(results)\n",
    "print(\"SMOTE 적용 후 모델 성능 비교:\")\n",
    "print(results_df.sort_values(by=\"Recall\", ascending=False))"
   ]
  },
  {
   "cell_type": "markdown",
   "id": "103f535c",
   "metadata": {},
   "source": [
    "### SMOTE 적용 후 모델 성능 비교\n",
    "\n",
    "- `Logistic Regression (SMOTE)`는 Recall 0.659, AUC 0.703으로 기준을 만족했으며,\n",
    "  F1 Score는 0.370으로 이전보다 개선되었으나 목표(≥ 0.50)에는 도달하지 못함\n",
    "- `XGBoost (SMOTE)`는 Recall이 급격히 하락하여 예측력이 크게 떨어졌고,\n",
    "  SMOTE와의 조합이 비효율적이거나 튜닝 전 영향으로 해석됨\n",
    "\n",
    "> SMOTE를 적용 전과 후가 큰 차이가 없어 두 모델 튜닝작업하고 선정하기로 판단\n"
   ]
  },
  {
   "cell_type": "code",
   "execution_count": 10,
   "id": "ce0710ca",
   "metadata": {},
   "outputs": [
    {
     "name": "stdout",
     "output_type": "stream",
     "text": [
      " Logistic Regression 최적 파라미터: {'clf__C': 0.1, 'clf__penalty': 'l2', 'clf__solver': 'saga'}\n",
      "Classification Report:\n",
      "              precision    recall  f1-score   support\n",
      "\n",
      "           0       0.91      0.63      0.74    111027\n",
      "           1       0.26      0.66      0.37     21498\n",
      "\n",
      "    accuracy                           0.64    132525\n",
      "   macro avg       0.58      0.64      0.56    132525\n",
      "weighted avg       0.80      0.64      0.68    132525\n",
      "\n",
      "ROC AUC: 0.703063756802275\n"
     ]
    }
   ],
   "source": [
    "from sklearn.linear_model import LogisticRegression\n",
    "from sklearn.model_selection import GridSearchCV\n",
    "from imblearn.over_sampling import SMOTE\n",
    "from imblearn.pipeline import Pipeline\n",
    "from sklearn.preprocessing import StandardScaler\n",
    "\n",
    "from sklearn.model_selection import train_test_split\n",
    "X_train, X_test, y_train, y_test = train_test_split(X, y, stratify=y, test_size=0.2, random_state=42)\n",
    "\n",
    "# 3. 파이프라인 구성: 스케일링 + SMOTE + 로지스틱\n",
    "pipeline = Pipeline([\n",
    "    ('scaler', StandardScaler()),\n",
    "    ('smote', SMOTE(random_state=42)),\n",
    "    ('clf', LogisticRegression(max_iter=1000, random_state=42))\n",
    "])\n",
    "\n",
    "# 4. 튜닝 파라미터\n",
    "param_grid = {\n",
    "    'clf__C': [0.01, 0.1, 1, 10],\n",
    "    'clf__penalty': ['l2'],\n",
    "    'clf__solver': ['lbfgs', 'saga']\n",
    "}\n",
    "\n",
    "# 5. GridSearchCV 실행\n",
    "grid_lr = GridSearchCV(pipeline, param_grid, cv=3, scoring='f1', n_jobs=-1)\n",
    "grid_lr.fit(X_train, y_train)\n",
    "\n",
    "# 6. 결과 출력\n",
    "from sklearn.metrics import classification_report, roc_auc_score\n",
    "\n",
    "y_pred = grid_lr.predict(X_test)\n",
    "y_proba = grid_lr.predict_proba(X_test)[:, 1]\n",
    "\n",
    "print(\" Logistic Regression 최적 파라미터:\", grid_lr.best_params_)\n",
    "print(\"Classification Report:\")\n",
    "print(classification_report(y_test, y_pred))\n",
    "print(\"ROC AUC:\", roc_auc_score(y_test, y_proba))"
   ]
  },
  {
   "cell_type": "code",
   "execution_count": 11,
   "id": "8eaa369f",
   "metadata": {},
   "outputs": [
    {
     "name": "stderr",
     "output_type": "stream",
     "text": [
      "C:\\Users\\asia\\AppData\\Roaming\\Python\\Python312\\site-packages\\xgboost\\training.py:183: UserWarning: [16:40:56] WARNING: C:\\actions-runner\\_work\\xgboost\\xgboost\\src\\learner.cc:738: \n",
      "Parameters: { \"use_label_encoder\" } are not used.\n",
      "\n",
      "  bst.update(dtrain, iteration=i, fobj=obj)\n"
     ]
    },
    {
     "name": "stdout",
     "output_type": "stream",
     "text": [
      " XGBoost 최적 파라미터: {'subsample': 0.6, 'n_estimators': 100, 'max_depth': 7, 'learning_rate': 0.05, 'colsample_bytree': 0.6}\n",
      "Classification Report:\n",
      "              precision    recall  f1-score   support\n",
      "\n",
      "           0       0.91      0.63      0.74    111027\n",
      "           1       0.26      0.69      0.38     21498\n",
      "\n",
      "    accuracy                           0.64    132525\n",
      "   macro avg       0.59      0.66      0.56    132525\n",
      "weighted avg       0.81      0.64      0.68    132525\n",
      "\n",
      "ROC AUC: 0.7154467106592712\n"
     ]
    }
   ],
   "source": [
    "from xgboost import XGBClassifier\n",
    "from sklearn.model_selection import RandomizedSearchCV\n",
    "\n",
    "# 1. 모델 정의\n",
    "xgb = XGBClassifier(use_label_encoder=False, eval_metric='logloss', scale_pos_weight=5.0, random_state=42)\n",
    "\n",
    "# 2. 파라미터 탐색 공간\n",
    "param_dist = {\n",
    "    'n_estimators': [100, 200, 300],\n",
    "    'max_depth': [3, 5, 7],\n",
    "    'learning_rate': [0.01, 0.05, 0.1],\n",
    "    'subsample': [0.6, 0.8, 1.0],\n",
    "    'colsample_bytree': [0.6, 0.8, 1.0]\n",
    "}\n",
    "\n",
    "# 3. RandomizedSearchCV 실행\n",
    "xgb_search = RandomizedSearchCV(\n",
    "    xgb, param_distributions=param_dist,\n",
    "    scoring='f1', cv=3, n_iter=20, random_state=42, n_jobs=-1\n",
    ")\n",
    "xgb_search.fit(X_train, y_train)\n",
    "\n",
    "# 4. 결과 출력\n",
    "from sklearn.metrics import classification_report, roc_auc_score\n",
    "\n",
    "y_pred_xgb = xgb_search.predict(X_test)\n",
    "y_proba_xgb = xgb_search.predict_proba(X_test)[:, 1]\n",
    "\n",
    "print(\" XGBoost 최적 파라미터:\", xgb_search.best_params_)\n",
    "print(\"Classification Report:\")\n",
    "print(classification_report(y_test, y_pred_xgb))\n",
    "print(\"ROC AUC:\", roc_auc_score(y_test, y_proba_xgb))"
   ]
  },
  {
   "cell_type": "markdown",
   "id": "47dcc162",
   "metadata": {},
   "source": [
    "\n",
    "### 최종 모델 선정 배경\n",
    "\n",
    "본 프로젝트에서는 고혈압 위험군을 조기에 탐지하기 위한 예측 모델로  \n",
    "`Logistic Regression`과 `XGBoost` 모델을 비교 실험하였다.\n",
    "\n",
    "두 모델 모두 유사한 성능을 보였으며,  \n",
    "- Logistic Regression: Recall 0.66, F1 Score 0.37, AUC 0.703  \n",
    "- XGBoost: Recall 0.69, F1 Score 0.38, AUC 0.715\n",
    "\n",
    "정량적 지표에서는 XGBoost가 근소한 우위를 보였으나,  \n",
    "본 프로젝트의 목적은 단순 예측을 넘어 **식품 성분 기반의 위험도 해석 및 식단 추천 알고리즘과의 연계**까지 포함되므로,  \n",
    "모델의 **해석 가능성(Interpretability)** 및 **실용적 연결성**을 더욱 중요하게 고려하였다.\n",
    "\n",
    "Logistic Regression은 각 건강 지표가 고혈압 위험에 미치는 영향을  \n",
    "계수(β)로 명확하게 해석할 수 있어,  \n",
    "해당 정보를 가공식품 성분과 연계해 **건강 위험 점수 및 필터링 알고리즘**을 설계하는 데 적합\n",
    "\n",
    "따라서 본 프로젝트에서는 **Logistic Regression + SMOTE 조합을 최종 예측 모델**로 선정"
   ]
  },
  {
   "cell_type": "code",
   "execution_count": 154,
   "id": "fd34792b",
   "metadata": {},
   "outputs": [],
   "source": [
    "features = [\n",
    "    '연령대코드(5세단위)',\n",
    "    '시력(평균)',\n",
    "    '식전혈당(공복혈당)',\n",
    "    '혈색소',\n",
    "    '요단백',\n",
    "    '혈청크레아티닌',\n",
    "    '감마지티피',\n",
    "    'bmi',\n",
    "    'alt_ast_ratio',\n",
    "    'tg_hdl_ratio',\n",
    "    'ggtp_alt_ratio',\n",
    "    'ldl_hdl_ratio',\n",
    "    'hypertension_status'  # 타겟\n",
    "]"
   ]
  },
  {
   "cell_type": "code",
   "execution_count": 155,
   "id": "8efbe359",
   "metadata": {},
   "outputs": [],
   "source": [
    "X = df_derived[features]\n",
    "y = df_derived['hypertension_status']\n",
    "\n",
    "# 2. 데이터 분할\n",
    "X_train, X_test, y_train, y_test = train_test_split(\n",
    "    X, y, stratify=y, test_size=0.2, random_state=42\n",
    ")"
   ]
  },
  {
   "cell_type": "code",
   "execution_count": 162,
   "id": "07388136",
   "metadata": {},
   "outputs": [
    {
     "name": "stdout",
     "output_type": "stream",
     "text": [
      "Fitting 3 folds for each of 16 candidates, totalling 48 fits\n",
      " 최적 파라미터: {'clf__C': 0.01, 'clf__class_weight': None, 'clf__solver': 'lbfgs'}\n",
      "              precision    recall  f1-score   support\n",
      "\n",
      "           0       0.91      0.59      0.72    111027\n",
      "           1       0.25      0.70      0.37     21498\n",
      "\n",
      "    accuracy                           0.61    132525\n",
      "   macro avg       0.58      0.65      0.54    132525\n",
      "weighted avg       0.80      0.61      0.66    132525\n",
      "\n",
      "ROC AUC: 0.700318382852269\n"
     ]
    }
   ],
   "source": [
    "from imblearn.pipeline import Pipeline as ImbPipeline\n",
    "from imblearn.over_sampling import SMOTE\n",
    "from sklearn.linear_model import LogisticRegression\n",
    "from sklearn.preprocessing import StandardScaler\n",
    "from sklearn.compose import ColumnTransformer\n",
    "from sklearn.model_selection import GridSearchCV\n",
    "from sklearn.metrics import classification_report, roc_auc_score\n",
    "\n",
    "# 수치형 피처만 스케일링\n",
    "numeric_features = [f for f in features if f != 'hypertension_status']\n",
    "\n",
    "preprocessor = ColumnTransformer([\n",
    "    ('num', StandardScaler(), numeric_features)\n",
    "])\n",
    "\n",
    "# 파이프라인 구성\n",
    "pipeline = ImbPipeline([\n",
    "    ('preprocess', preprocessor),\n",
    "    ('smote', SMOTE(random_state=42)),\n",
    "    ('clf', LogisticRegression(max_iter=1000, random_state=42))\n",
    "])\n",
    "\n",
    "# 하이퍼파라미터 탐색 범위\n",
    "param_grid = {\n",
    "    'clf__C': [0.01, 0.1, 1, 10],\n",
    "    'clf__solver': ['lbfgs', 'saga'],\n",
    "    'clf__class_weight': [None, 'balanced']\n",
    "}\n",
    "\n",
    "# 튜닝\n",
    "grid = GridSearchCV(pipeline, param_grid, cv=3, scoring='f1', n_jobs=-1, verbose=1)\n",
    "grid.fit(X_train[numeric_features], y_train)\n",
    "\n",
    "# 평가\n",
    "y_pred = grid.predict(X_test[numeric_features])\n",
    "y_proba = grid.predict_proba(X_test[numeric_features])[:, 1]\n",
    "y_pred_thresh = (y_proba >= 0.48).astype(int)\n",
    "\n",
    "print(\" 최적 파라미터:\", grid.best_params_)\n",
    "print(classification_report(y_test, y_pred_thresh))\n",
    "print(\"ROC AUC:\", roc_auc_score(y_test, y_proba))"
   ]
  },
  {
   "cell_type": "markdown",
   "id": "1ab2b543",
   "metadata": {},
   "source": [
    "Threshold를 0.48로 조정한 Logistic Regression 모델은  \n",
    "고혈압자에 대한 Recall 0.70을 기록하며 위험 사용자 탐지 목적에 부합\n",
    "\n",
    "Precision은 0.25로 다소 낮았지만,  \n",
    "본 프로젝트의 핵심 목표가 조기 위험 경고와 사용자 위험도를 제공에 있다는 점에서  \n",
    "실용적으로 적용 가능한 구조로 판단\n",
    "\n",
    "또한 ROC AUC 0.700을 넘기며 모델의 분류 안정성도 확보"
   ]
  },
  {
   "cell_type": "code",
   "execution_count": 56,
   "id": "ee40b4bf",
   "metadata": {},
   "outputs": [
    {
     "data": {
      "text/plain": [
       "<Figure size 500x500 with 0 Axes>"
      ]
     },
     "metadata": {},
     "output_type": "display_data"
    },
    {
     "data": {
      "image/png": "[encoded data removed]",
      "text/plain": [
       "<Figure size 640x480 with 2 Axes>"
      ]
     },
     "metadata": {},
     "output_type": "display_data"
    }
   ],
   "source": [
    "from sklearn.metrics import confusion_matrix, ConfusionMatrixDisplay\n",
    "import matplotlib.pyplot as plt\n",
    "\n",
    "# 예측 결과 기반 혼동행렬\n",
    "cm = confusion_matrix(y_test, y_pred)\n",
    "disp = ConfusionMatrixDisplay(confusion_matrix=cm, display_labels=[0, 1])\n",
    "\n",
    "# 시각화\n",
    "plt.figure(figsize=(5, 5))\n",
    "disp.plot(cmap='Blues', values_format='d')\n",
    "plt.title(\"Confusion Matrix\")\n",
    "plt.grid(False)\n",
    "plt.show()"
   ]
  },
  {
   "cell_type": "code",
   "execution_count": 163,
   "id": "caaf72fd",
   "metadata": {},
   "outputs": [
    {
     "name": "stdout",
     "output_type": "stream",
     "text": [
      " 최종 Logistic Regression 계수 해석:\n",
      "                Feature  Coefficient (β)\n",
      "0      num__연령대코드(5세단위)         0.625227\n",
      "7              num__bmi         0.436296\n",
      "3              num__혈색소         0.217751\n",
      "6            num__감마지티피         0.103179\n",
      "4              num__요단백         0.102479\n",
      "2       num__식전혈당(공복혈당)         0.083112\n",
      "10  num__ggtp_alt_ratio         0.068553\n",
      "9     num__tg_hdl_ratio         0.061733\n",
      "8    num__alt_ast_ratio         0.007726\n",
      "1           num__시력(평균)        -0.010858\n",
      "11   num__ldl_hdl_ratio        -0.023738\n",
      "5          num__혈청크레아티닌        -0.065965\n"
     ]
    }
   ],
   "source": [
    "from sklearn import set_config\n",
    "set_config(transform_output=\"pandas\")\n",
    "\n",
    "# 1. 변환기 추출\n",
    "preprocessor = grid.best_estimator_.named_steps['preprocess']\n",
    "model = grid.best_estimator_.named_steps['clf']\n",
    "\n",
    "# 2. transform 적용 후 실제 사용된 피처 이름 자동 추출\n",
    "X_train_transformed = preprocessor.fit_transform(X_train)\n",
    "actual_feature_names = X_train_transformed.columns.tolist()\n",
    "\n",
    "# 3. 계수 추출\n",
    "coefficients = model.coef_.flatten()\n",
    "\n",
    "# 4. 확인 및 DataFrame 생성\n",
    "assert len(coefficients) == len(actual_feature_names), \"길이 불일치 발생!\"\n",
    "\n",
    "coef_df = pd.DataFrame({\n",
    "    'Feature': actual_feature_names,\n",
    "    'Coefficient (β)': coefficients\n",
    "}).sort_values(by='Coefficient (β)', ascending=False)\n",
    "\n",
    "# 5. 출력\n",
    "print(\" 최종 Logistic Regression 계수 해석:\")\n",
    "print(coef_df)"
   ]
  },
  {
   "cell_type": "code",
   "execution_count": 157,
   "id": "af9f6c4b",
   "metadata": {},
   "outputs": [
    {
     "name": "stdout",
     "output_type": "stream",
     "text": [
      "Thresh   Recall   Precision  F1    \n",
      "------------------------------------\n",
      "0.30     0.937    0.197      0.326 \n",
      "0.32     0.920    0.202      0.331 \n",
      "0.34     0.902    0.207      0.337 \n",
      "0.36     0.882    0.213      0.343 \n",
      "0.38     0.857    0.218      0.348 \n",
      "0.40     0.831    0.224      0.353 \n",
      "0.42     0.801    0.230      0.357 \n",
      "0.44     0.769    0.237      0.362 \n",
      "0.46     0.734    0.243      0.365 \n",
      "0.48     0.697    0.250      0.368 \n",
      "0.50     0.657    0.257      0.369 \n",
      "0.52     0.615    0.263      0.369 \n",
      "0.54     0.572    0.271      0.368 \n",
      "0.56     0.528    0.280      0.366 \n",
      "0.58     0.482    0.288      0.361 \n",
      "0.60     0.436    0.296      0.353 \n"
     ]
    }
   ],
   "source": [
    "from sklearn.metrics import precision_score, recall_score, f1_score\n",
    "\n",
    "import numpy as np\n",
    "\n",
    "thresholds = np.arange(0.30, 0.61, 0.02)\n",
    "print(f\"{'Thresh':<8} {'Recall':<8} {'Precision':<10} {'F1':<6}\")\n",
    "print(\"-\" * 36)\n",
    "\n",
    "for t in thresholds:\n",
    "    y_pred_t = (y_proba >= t).astype(int)\n",
    "    r = recall_score(y_test, y_pred_t)\n",
    "    p = precision_score(y_test, y_pred_t)\n",
    "    f = f1_score(y_test, y_pred_t)\n",
    "    print(f\"{t:<8.2f} {r:<8.3f} {p:<10.3f} {f:<6.3f}\")"
   ]
  },
  {
   "cell_type": "code",
   "execution_count": 158,
   "id": "963fd1a9",
   "metadata": {},
   "outputs": [
    {
     "data": {
      "image/png": "[encoded data removed]",
      "text/plain": [
       "<Figure size 640x480 with 1 Axes>"
      ]
     },
     "metadata": {},
     "output_type": "display_data"
    }
   ],
   "source": [
    "f1s = [f1_score(y_test, (y_proba >= t).astype(int)) for t in thresholds]\n",
    "plt.plot(thresholds, f1s, marker='o')\n",
    "plt.title(\"Threshold vs F1 Score (Logistic)\")\n",
    "plt.xlabel(\"Threshold\")\n",
    "plt.ylabel(\"F1 Score\")\n",
    "plt.grid(True)\n",
    "plt.show()"
   ]
  },
  {
   "cell_type": "code",
   "execution_count": 164,
   "id": "4d3aed88",
   "metadata": {},
   "outputs": [
    {
     "name": "stdout",
     "output_type": "stream",
     "text": [
      " 교차검증 F1 Scores: [0.36962311 0.3700562  0.36984679 0.37210153 0.37400818]\n",
      " 평균 F1: 0.37112716160852255\n"
     ]
    }
   ],
   "source": [
    "from sklearn.model_selection import cross_val_score, StratifiedKFold\n",
    "from imblearn.pipeline import Pipeline as ImbPipeline\n",
    "from imblearn.over_sampling import SMOTE\n",
    "from sklearn.linear_model import LogisticRegression\n",
    "\n",
    "cv_pipeline = ImbPipeline([\n",
    "    ('preprocess', preprocessor),\n",
    "    ('smote', SMOTE(random_state=42)),\n",
    "    ('clf', LogisticRegression(C=0.01, solver='lbfgs', class_weight=None, max_iter=1000, random_state=42))\n",
    "])\n",
    "\n",
    "cv = StratifiedKFold(n_splits=5, shuffle=True, random_state=42)\n",
    "\n",
    "cv_f1_scores = cross_val_score(\n",
    "    cv_pipeline, X[numeric_features], y,\n",
    "    scoring='f1', cv=cv, n_jobs=-1\n",
    ")\n",
    "\n",
    "print(\" 교차검증 F1 Scores:\", cv_f1_scores)\n",
    "print(\" 평균 F1:\", cv_f1_scores.mean())\n"
   ]
  },
  {
   "cell_type": "markdown",
   "id": "3ea4abba",
   "metadata": {},
   "source": [
    "교차검증 기준 F1 Score 평균이 0.37로,  \n",
    "test set 기준 성능과 거의 동일하게 유지\n",
    "\n",
    "이는 threshold = 0.48 기준이 과적합된 결과가 아니며,  \n",
    "현재 Logistic Regression 모델이  \n",
    "실제 운영 환경에서도 유사한 예측 성능을 기대할 수 있는 안정적인 구조임을 의미"
   ]
  },
  {
   "cell_type": "code",
   "execution_count": 165,
   "id": "5c3336d5",
   "metadata": {},
   "outputs": [],
   "source": [
    "best_model = grid.best_estimator_\n",
    "preprocessor = best_model.named_steps['preprocess']\n",
    "scaler = preprocessor.named_transformers_['num']\n",
    "clf = best_model.named_steps['clf']"
   ]
  },
  {
   "cell_type": "code",
   "execution_count": 166,
   "id": "60bbce88",
   "metadata": {},
   "outputs": [
    {
     "data": {
      "text/plain": [
       "['scaler.pkl']"
      ]
     },
     "execution_count": 166,
     "metadata": {},
     "output_type": "execute_result"
    }
   ],
   "source": [
    "import joblib\n",
    "\n",
    "joblib.dump(clf, \"logistic_model.pkl\")\n",
    "joblib.dump(scaler, \"scaler.pkl\")"
   ]
  }
 ],
 "metadata": {
  "kernelspec": {
   "display_name": "py312tf2",
   "language": "python",
   "name": "python3"
  },
  "language_info": {
   "codemirror_mode": {
    "name": "ipython",
    "version": 3
   },
   "file_extension": ".py",
   "mimetype": "text/x-python",
   "name": "python",
   "nbconvert_exporter": "python",
   "pygments_lexer": "ipython3",
   "version": "3.12.9"
  }
 },
 "nbformat": 4,
 "nbformat_minor": 5
}
